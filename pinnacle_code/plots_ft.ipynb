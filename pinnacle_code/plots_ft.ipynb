{
 "cells": [
  {
   "cell_type": "code",
   "execution_count": null,
   "id": "726eae1f",
   "metadata": {},
   "outputs": [],
   "source": [
    "%load_ext autoreload\n",
    "%autoreload 2\n",
    "%matplotlib inline"
   ]
  },
  {
   "cell_type": "code",
   "execution_count": null,
   "id": "9452c693",
   "metadata": {},
   "outputs": [],
   "source": [
    "from functools import partial\n",
    "import os\n",
    "import pickle as pkl\n",
    "from collections.abc import MutableMapping\n",
    "\n",
    "import matplotlib.pyplot as plt\n",
    "import matplotlib.tri as tri\n",
    "import numpy as np\n",
    "import tqdm\n",
    "\n",
    "os.environ[\"CUDA_VISIBLE_DEVICES\"] = \"\"\n",
    "os.environ[\"DDE_BACKEND\"] = \"jax\"\n",
    "\n",
    "# os.environ[\"XLA_PYTHON_CLIENT_PREALLOCATE\"]=\"false\"\n",
    "# os.environ[\"XLA_PYTHON_CLIENT_MEM_FRACTION\"]=\".XX\"\n",
    "# os.environ[\"XLA_PYTHON_CLIENT_ALLOCATOR\"]=\"platform\"\n",
    "\n",
    "from jax import config\n",
    "config.update(\"jax_enable_x64\", True)\n",
    "# config.update(\"jax_debug_nans\", True)\n",
    "\n",
    "import jax\n",
    "import jax.numpy as jnp\n",
    "import flax\n",
    "from flax import linen as nn\n",
    "import optax\n",
    "\n",
    "try:\n",
    "    print(f'Jax: CPUs={jax.local_device_count(\"cpu\")} - GPUs={jax.local_device_count(\"gpu\")}')\n",
    "except:\n",
    "    pass\n",
    "    \n",
    "import deepxde_al_patch.deepxde as dde\n",
    "\n",
    "from deepxde_al_patch.model_loader import construct_model, construct_net\n",
    "from deepxde_al_patch.modified_train_loop import ModifiedTrainLoop\n",
    "from deepxde_al_patch.plotters import plot_residue_loss, plot_error, plot_prediction\n",
    "from deepxde_al_patch.train_set_loader import load_data\n",
    "\n",
    "from deepxde_al_patch.ntk import NTKHelper\n",
    "from deepxde_al_patch.utils import get_pde_residue, print_dict_structure"
   ]
  },
  {
   "cell_type": "code",
   "execution_count": null,
   "id": "4e3eec5d",
   "metadata": {},
   "outputs": [],
   "source": [
    "plt.rcParams['figure.dpi'] = 300\n",
    "\n",
    "plt.rcParams.update({\n",
    "    'font.size': 12,\n",
    "    'text.usetex': False,\n",
    "})"
   ]
  },
  {
   "cell_type": "code",
   "execution_count": null,
   "id": "5213bab1",
   "metadata": {},
   "outputs": [],
   "source": []
  },
  {
   "cell_type": "code",
   "execution_count": null,
   "id": "4d3a7825",
   "metadata": {},
   "outputs": [],
   "source": [
    "algs = {\n",
    "    'random': ('Random', 'x:k'),\n",
    "    'sampling_residue_scale-none_mem_autoal': ('Residue', '^--r'),\n",
    "    'greedy_nystrom_wo_N_scale-none_mem_autoal': ('PINNAcLe-Gr', 'p-m'),\n",
    "    'sampling_nystrom_wo_N_scale-none_mem_autoal': ('PINNAcLe-Sa', 'h-c'),\n",
    "    'kmeans_nystrom_wo_N_scale-none_mem_autoal': ('PINNAcLe-KM', 'o-b'),\n",
    "}"
   ]
  },
  {
   "cell_type": "code",
   "execution_count": null,
   "id": "95b9ac1c",
   "metadata": {},
   "outputs": [],
   "source": [
    "data_folder = '../../'"
   ]
  },
  {
   "cell_type": "code",
   "execution_count": null,
   "id": "544a4479",
   "metadata": {},
   "outputs": [],
   "source": [
    "case_list = [\n",
    "\n",
    "    (\n",
    "        'al_pinn_results/conv-1d{1.0}_pb-40_anc/nn-None-8-128_adam_bcsloss-1.0_budget-1000-200-2',\n",
    "        [0, 10000, 20000, 50000, 100000, 150000],\n",
    "    ),\n",
    "\n",
    "    (\n",
    "        'al_pinn_results/conv-1d{1.0}_pb-40_ic/nn-None-8-128_adam_bcsloss-1.0_budget-1000-200-0'\n",
    "        [0, 10000, 20000, 50000, 100000, 200000],\n",
    "    ),\n",
    "\n",
    "    (\n",
    "        'al_pinn_results/conv-1d{1.0}_pb-40_inv_anc/nn-None-8-128_adam_bcsloss-1.0_budget-1000-200-5',\n",
    "        [0, 10000, 20000, 50000, 100000, 200000],\n",
    "    ),\n",
    "\n",
    "    (\n",
    "        'al_pinn_results_ic_change/conv-1d{1.0}_ftic-40-898_anc/nn-None-8-128_adam_bcsloss-1.0_budget-200-50-0',\n",
    "        [0, 20000, 40000, 60000, 80000, 100000],\n",
    "    ),\n",
    "\n",
    "    (\n",
    "        'al_pinn_results/conv-1d{1.0}_pb-80_anc/nn-None-8-128_adam_bcsloss-1.0_budget-1000-200-2',\n",
    "        [0, 20000, 40000, 60000, 80000, 100000],\n",
    "    ),\n",
    "\n",
    "    (\n",
    "        'al_pinn_results/conv-1d{1.0}_pb-80_ic/nn-None-8-128_adam_bcsloss-1.0_budget-1000-200-0',\n",
    "        [0, 10000, 20000, 50000, 100000, 200000],\n",
    "    ),\n",
    "\n",
    "    (\n",
    "        'al_pinn_results/conv-1d{1.0}_pb-80_inv_anc/nn-None-8-128_adam_bcsloss-1.0_budget-1000-200-5',\n",
    "        [0, 10000, 20000, 50000, 100000, 200000],\n",
    "    ),\n",
    "\n",
    "    (\n",
    "        'al_pinn_results_ic_change/conv-1d{1.0}_ftic-80-272_ic/nn-None-8-128_adam_bcsloss-1.0_budget-200-50-0',\n",
    "        [0, 20000, 40000, 60000, 80000, 100000],\n",
    "    ),\n",
    "\n",
    "    (\n",
    "        'al_pinn_results_ic_change/conv-1d{1.0}_ftic-80-272_anc/nn-None-8-128_adam_bcsloss-1.0_budget-200-50-2',\n",
    "        [0, 20000, 40000, 60000, 80000, 100000],\n",
    "    ),\n",
    "    \n",
    "]\n",
    "\n",
    "\n",
    "case_folder, steps_plot = case_list[8]\n",
    "max_steps = steps_plot[-1]"
   ]
  },
  {
   "cell_type": "code",
   "execution_count": null,
   "id": "a6b4419f",
   "metadata": {},
   "outputs": [],
   "source": []
  },
  {
   "cell_type": "code",
   "execution_count": null,
   "id": "54a3510d",
   "metadata": {},
   "outputs": [],
   "source": []
  },
  {
   "cell_type": "code",
   "execution_count": null,
   "id": "509eacaf",
   "metadata": {},
   "outputs": [],
   "source": [
    "root_folder = os.path.join(data_folder, case_folder)"
   ]
  },
  {
   "cell_type": "code",
   "execution_count": null,
   "id": "72473ef7",
   "metadata": {},
   "outputs": [],
   "source": [
    "_, arch, depth, width = root_folder.split('/')[-1].split('_')[0].split('-')\n",
    "\n",
    "net, _ = construct_net(\n",
    "    input_dim=2, \n",
    "    output_dim=1, \n",
    "    hidden_layers=int(depth), \n",
    "    hidden_dim=int(width), \n",
    "    arch=(None if arch == 'None' else arch)\n",
    ")"
   ]
  },
  {
   "cell_type": "code",
   "execution_count": null,
   "id": "894c094a",
   "metadata": {},
   "outputs": [],
   "source": [
    "cases = {x: os.listdir(f'{root_folder}/{x}') for x in algs.keys() if os.path.exists(f'{root_folder}/{x}')}\n",
    "cases.keys()"
   ]
  },
  {
   "cell_type": "code",
   "execution_count": null,
   "id": "7ee06b89",
   "metadata": {
    "scrolled": true
   },
   "outputs": [],
   "source": [
    "data = dict()\n",
    "steps_min = dict()\n",
    "\n",
    "for c in cases.keys():\n",
    "    \n",
    "    s_min = float('inf')\n",
    "    \n",
    "    runs = []\n",
    "    for r in cases[c]:\n",
    "        \n",
    "        d = dict()\n",
    "        \n",
    "        for file in os.listdir(f'{root_folder}/{c}/{r}'):\n",
    "            \n",
    "            if file.startswith('snapshot_data'):\n",
    "        \n",
    "                fname = f'{root_folder}/{c}/{r}/{file}'\n",
    "\n",
    "                with open(fname, 'rb') as f:\n",
    "                    d_update = pkl.load(f)\n",
    "                \n",
    "                d.update(d_update)\n",
    "        \n",
    "        steps_range = sorted([x for x in d.keys() if (x is not None) and (max_steps >= x)])\n",
    "        if (len(steps_range) > 0) and (max_steps == steps_range[-1]):\n",
    "            \n",
    "            print(c, r, sorted([x for x in d.keys() if (x is not None)])[-1])\n",
    "            \n",
    "            s_min = min(s_min, steps_range[-1])\n",
    "            \n",
    "            x_test = d[None]['x_test']\n",
    "\n",
    "            d_modified = {\n",
    "                'x_test': x_test,\n",
    "                'y_test': d[None]['y_test'],\n",
    "                'steps': steps_range,\n",
    "                'res_mean': [d[k]['residue_test_mean'] for k in steps_range],\n",
    "                'err_mean': [d[k]['error_test_mean'] for k in steps_range],\n",
    "                'res': [d[k]['residue_test'] for k in steps_range],\n",
    "                'err': [d[k]['error_test'] for k in steps_range],\n",
    "                'pred': [d[k]['pred_test'] if 'pred_test' in d[k].keys() \n",
    "                         else net.apply(d[k]['params'][0], x_test)\n",
    "                         for k in steps_range],\n",
    "                'chosen_pts': [d[k]['al_intermediate']['chosen_pts'] for k in steps_range],\n",
    "                'inv': [d[k]['params'][1] for k in steps_range],\n",
    "            }\n",
    "            \n",
    "            arr_shape = [d_modified['y_test'].shape[1]] + [np.unique(x).shape[0] for x in d_modified['x_test'].T]\n",
    "            d_modified['y_test_fft'] = np.fft.fftn(\n",
    "                d_modified['y_test'].reshape(*arr_shape), \n",
    "                axes=[1, 2]\n",
    "            )\n",
    "            d_modified['pred_fft'] = [np.fft.fftn(\n",
    "                y.reshape(*arr_shape), axes=[1, 2]) \n",
    "                for y in d_modified['pred']]\n",
    "            \n",
    "            d_modified['fft_err'] = [np.abs(yf - d_modified['y_test_fft'])\n",
    "                for yf in d_modified['pred_fft']]\n",
    "            \n",
    "#             idxs = np.meshgrid(np.arange(arr_shape[1]), np.arange(arr_shape[2]))[0].T\n",
    "#             idxs = np.array([idxs, idxs])\n",
    "            \n",
    "            idxs = np.array(np.meshgrid(np.arange(arr_shape[1]), np.arange(arr_shape[2]))).swapaxes(1, 2)\n",
    "            \n",
    "            klow = (idxs <= 4).all(axis=0).astype(float)\n",
    "            kmid = (idxs <= 12).all(axis=0).astype(float) - klow\n",
    "            khigh = (idxs <= np.inf).all(axis=0).astype(float) - kmid - klow\n",
    "            \n",
    "            for s, k in [('low', klow), ('mid', kmid), ('high', khigh)]:\n",
    "                d_modified[f'fft_mean_{s}'] = [np.sum(yf * k[None, :]) / (np.sum(k) * yf.shape[0])\n",
    "                    for yf in d_modified['fft_err']]\n",
    "\n",
    "            runs.append(d_modified)\n",
    "        \n",
    "    data[c] = runs\n",
    "    steps_min[c] = s_min"
   ]
  },
  {
   "cell_type": "code",
   "execution_count": null,
   "id": "3c6a4cb8",
   "metadata": {},
   "outputs": [],
   "source": []
  },
  {
   "cell_type": "code",
   "execution_count": null,
   "id": "2f9acead",
   "metadata": {},
   "outputs": [],
   "source": [
    "graph_folder = os.path.join(data_folder, 'al_pinn_graphs', case_folder)\n",
    "os.makedirs(graph_folder, exist_ok=True)"
   ]
  },
  {
   "cell_type": "code",
   "execution_count": null,
   "id": "031ed31b",
   "metadata": {},
   "outputs": [],
   "source": [
    "for _, k in [('low', klow), ('mid', kmid), ('high', khigh)]:\n",
    "    plt.imshow(k.T)\n",
    "    plt.show()"
   ]
  },
  {
   "cell_type": "code",
   "execution_count": null,
   "id": "47a21305",
   "metadata": {},
   "outputs": [],
   "source": []
  },
  {
   "cell_type": "code",
   "execution_count": null,
   "id": "afb4cccd",
   "metadata": {},
   "outputs": [],
   "source": [
    "def contour_on_ax(ax, xs, zs, levels, res=200):\n",
    "    xi, yi = [np.linspace(np.min(xs[:,i]), np.max(xs[:,i]), res) for i in range(2)]\n",
    "    grid = np.meshgrid(xi, yi)\n",
    "    triang = tri.Triangulation(xs[:,0], xs[:,1])\n",
    "    interpolator = tri.LinearTriInterpolator(triang, zs)\n",
    "    Xi, Yi = np.meshgrid(xi, yi)\n",
    "    zi = interpolator(Xi, Yi)\n",
    "    cb = ax.contourf(xi, yi, zi, levels=levels, cmap=\"RdBu_r\")\n",
    "    return cb\n",
    "\n",
    "\n",
    "def plot_contours(xs, ys_list, titles, res=200):\n",
    "    fig, axs = plt.subplots(\n",
    "        nrows=1, \n",
    "        ncols=len(ys_list), \n",
    "        sharex=True, \n",
    "        sharey=True, \n",
    "        figsize=(4 * (len(ys_list) + 1), 4)\n",
    "    )\n",
    "    levels = np.linspace(np.min(ys_list), np.max(ys_list), num=res)\n",
    "    for ax, zs, title in zip(axs, ys_list, titles):\n",
    "        cb = contour_on_ax(ax, xs, zs, levels, res)\n",
    "        ax.set_title(title)\n",
    "    axs = axs.ravel().tolist()\n",
    "    fig.colorbar(cb, ax=axs)\n",
    "    return fig, axs"
   ]
  },
  {
   "cell_type": "code",
   "execution_count": null,
   "id": "7216fdf6",
   "metadata": {},
   "outputs": [],
   "source": [
    "def plot_training_data(ax, samples):\n",
    "    ms = 2.\n",
    "    ax.plot(samples['res'][:, 0], samples['res'][:, 1], 'o', color='black', ms=ms)\n",
    "    if 'anc' in samples.keys():\n",
    "        ax.plot(samples['anc'][:, 0], samples['anc'][:, 1], '^', color='blue', ms=ms)\n",
    "    for i, bc_pts in enumerate(samples['bcs']):\n",
    "        ax.plot(bc_pts[:, 0], bc_pts[:, 1], 's', color=f'C{i+1}', ms=ms)"
   ]
  },
  {
   "cell_type": "code",
   "execution_count": null,
   "id": "82c12e40",
   "metadata": {},
   "outputs": [],
   "source": []
  },
  {
   "cell_type": "code",
   "execution_count": null,
   "id": "a786e9de",
   "metadata": {},
   "outputs": [],
   "source": [
    "fig, ax = plt.subplots(figsize=(5, 4))\n",
    "for c in cases.keys():\n",
    "    label, marker = algs[c]\n",
    "    min_idx = np.argmin([x['err_mean'][-1] for x in data[c]])\n",
    "    ax.semilogy(data[c][min_idx]['steps'], \n",
    "                data[c][min_idx]['err_mean'], \n",
    "                marker, label=label)\n",
    "ax.legend()\n",
    "ax.set_xlabel('Steps')\n",
    "ax.set_ylabel('Mean error')\n",
    "fig.tight_layout()\n",
    "for ext in ['pdf', 'png']:\n",
    "    fig.savefig(os.path.join(graph_folder, f'err_mean.{ext}'))"
   ]
  },
  {
   "cell_type": "code",
   "execution_count": null,
   "id": "0f6846ed",
   "metadata": {},
   "outputs": [],
   "source": [
    "fig, ax = plt.subplots(figsize=(5, 4))\n",
    "for c in cases.keys():\n",
    "    \n",
    "    ys = [y['err_mean'] for y in data[c]]\n",
    "    mean = np.mean(ys, axis=0)\n",
    "    err = np.std(ys, axis=0)\n",
    "    \n",
    "    label, marker = algs[c]\n",
    "    \n",
    "    ax.set_yscale(\"log\")\n",
    "    ax.errorbar(data[c][0]['steps'], mean, fmt=marker, capsize=2, label=label, alpha=0.7)\n",
    "    \n",
    "ax.legend()\n",
    "ax.set_xlabel('Steps')\n",
    "ax.set_ylabel('Mean error')\n",
    "fig.tight_layout()\n",
    "for ext in ['pdf', 'png']:\n",
    "    fig.savefig(os.path.join(graph_folder, f'err_mean_avg.{ext}'))"
   ]
  },
  {
   "cell_type": "code",
   "execution_count": null,
   "id": "6c2ec8d8",
   "metadata": {},
   "outputs": [],
   "source": [
    "fig, ax = plt.subplots(figsize=(5, 4))\n",
    "for c in cases.keys():\n",
    "    \n",
    "    ys = [y['err_mean'] for y in data[c]]\n",
    "    mean = np.mean(ys, axis=0)\n",
    "    err = np.std(ys, axis=0)\n",
    "    \n",
    "    label, marker = algs[c]\n",
    "    \n",
    "    ax.set_yscale(\"log\")\n",
    "    ax.errorbar(data[c][0]['steps'], mean, [np.zeros_like(err), err], \n",
    "                fmt=marker, capsize=2, label=label, alpha=0.7)\n",
    "    \n",
    "ax.legend()\n",
    "ax.set_xlabel('Steps')\n",
    "ax.set_ylabel('Mean error')\n",
    "fig.tight_layout()\n",
    "for ext in ['pdf', 'png']:\n",
    "    fig.savefig(os.path.join(graph_folder, f'err_mean_bar.{ext}'))"
   ]
  },
  {
   "cell_type": "code",
   "execution_count": null,
   "id": "4c8dd6b2",
   "metadata": {},
   "outputs": [],
   "source": []
  },
  {
   "cell_type": "code",
   "execution_count": null,
   "id": "4f26a105",
   "metadata": {},
   "outputs": [],
   "source": [
    "fig, ax = plt.subplots(figsize=(5, 4))\n",
    "for c in cases.keys():\n",
    "    label, marker = algs[c]\n",
    "    ax.semilogy(\n",
    "        data[c][0]['steps'], \n",
    "        [jnp.sqrt(jnp.mean(e**2)) for e in data[c][np.argmin([x['err_mean'][-1] for x in data[c]])]['err']], \n",
    "        marker, label=label\n",
    "    )\n",
    "ax.legend()\n",
    "ax.set_xlabel('Steps')\n",
    "ax.set_ylabel('RMSE')\n",
    "fig.tight_layout()\n",
    "for ext in ['pdf', 'png']:\n",
    "    fig.savefig(os.path.join(graph_folder, f'rmse.{ext}'))"
   ]
  },
  {
   "cell_type": "code",
   "execution_count": null,
   "id": "3a431785",
   "metadata": {},
   "outputs": [],
   "source": []
  },
  {
   "cell_type": "code",
   "execution_count": null,
   "id": "e5cb3631",
   "metadata": {},
   "outputs": [],
   "source": [
    "fig, ax = plt.subplots(figsize=(5, 4))\n",
    "for c in cases.keys():\n",
    "    label, marker = algs[c]\n",
    "    min_idx = np.argmin([x['res_mean'][-1] for x in data[c]])\n",
    "    ax.semilogy(data[c][min_idx]['steps'], \n",
    "                data[c][min_idx]['res_mean'], \n",
    "                marker, label=label)\n",
    "ax.legend()\n",
    "ax.set_xlabel('Steps')\n",
    "ax.set_ylabel('Mean residue')\n",
    "fig.tight_layout()\n",
    "for ext in ['pdf', 'png']:\n",
    "    fig.savefig(os.path.join(graph_folder, f'res_mean.{ext}'))"
   ]
  },
  {
   "cell_type": "code",
   "execution_count": null,
   "id": "81176063",
   "metadata": {},
   "outputs": [],
   "source": [
    "fig, ax = plt.subplots(figsize=(5, 4))\n",
    "for c in cases.keys():\n",
    "    \n",
    "    ys = [y['res_mean'] for y in data[c]]\n",
    "    mean = np.mean(ys, axis=0)\n",
    "    err = np.std(ys, axis=0)\n",
    "    \n",
    "    label, marker = algs[c]\n",
    "    \n",
    "    ax.set_yscale(\"log\")\n",
    "    ax.errorbar(data[c][0]['steps'], mean, fmt=marker, capsize=2, label=label, alpha=0.7)\n",
    "    \n",
    "ax.legend()\n",
    "ax.set_xlabel('Steps')\n",
    "ax.set_ylabel('Mean residue')\n",
    "fig.tight_layout()\n",
    "for ext in ['pdf', 'png']:\n",
    "    fig.savefig(os.path.join(graph_folder, f'res_mean_avg.{ext}'))"
   ]
  },
  {
   "cell_type": "code",
   "execution_count": null,
   "id": "5a693b09",
   "metadata": {},
   "outputs": [],
   "source": [
    "fig, ax = plt.subplots(figsize=(5, 4))\n",
    "for c in cases.keys():\n",
    "    \n",
    "    ys = [y['res_mean'] for y in data[c]]\n",
    "    mean = np.mean(ys, axis=0)\n",
    "    err = np.std(ys, axis=0)\n",
    "    \n",
    "    label, marker = algs[c]\n",
    "    \n",
    "    ax.set_yscale(\"log\")\n",
    "    ax.errorbar(data[c][0]['steps'], mean, [np.zeros_like(err), err],\n",
    "                fmt=marker, capsize=2, label=label, alpha=0.7)\n",
    "    \n",
    "ax.legend()\n",
    "ax.set_xlabel('Steps')\n",
    "ax.set_ylabel('Mean residue')\n",
    "fig.tight_layout()\n",
    "for ext in ['pdf', 'png']:\n",
    "    fig.savefig(os.path.join(graph_folder, f'res_mean_bar.{ext}'))"
   ]
  },
  {
   "cell_type": "code",
   "execution_count": null,
   "id": "5d30819f",
   "metadata": {},
   "outputs": [],
   "source": []
  },
  {
   "cell_type": "code",
   "execution_count": null,
   "id": "413d2e64",
   "metadata": {
    "scrolled": false
   },
   "outputs": [],
   "source": [
    "for s in ['low', 'mid', 'high']:\n",
    "\n",
    "    fig, ax = plt.subplots(figsize=(5, 4))\n",
    "    for c in cases.keys():\n",
    "\n",
    "        label, marker = algs[c]\n",
    "        min_idx = np.argmin([x['err_mean'][-1] for x in data[c]])\n",
    "        ax.semilogy(data[c][min_idx]['steps'], \n",
    "                    data[c][min_idx][f'fft_mean_{s}'], \n",
    "                    marker, label=label)\n",
    "    ax.legend()\n",
    "    ax.set_xlabel('Steps')\n",
    "    ax.set_ylabel(f'Mean FFT ({s}) diff.')\n",
    "    fig.tight_layout()\n",
    "    for ext in ['pdf', 'png']:\n",
    "        fig.savefig(os.path.join(graph_folder, f'fft-{s}_mean.{ext}'))"
   ]
  },
  {
   "cell_type": "code",
   "execution_count": null,
   "id": "1d5343ee",
   "metadata": {
    "scrolled": false
   },
   "outputs": [],
   "source": [
    "for s in ['low', 'mid', 'high']:\n",
    "        \n",
    "    fig, ax = plt.subplots(figsize=(5, 4))\n",
    "    for c in cases.keys():\n",
    "\n",
    "        ys = [y[f'fft_mean_{s}'] for y in data[c]]\n",
    "        mean = np.mean(ys, axis=0)\n",
    "        err = np.std(ys, axis=0)\n",
    "\n",
    "        label, marker = algs[c]\n",
    "\n",
    "        ax.set_yscale(\"log\")\n",
    "        ax.errorbar(data[c][0]['steps'], mean, fmt=marker, capsize=2, label=label, alpha=0.7)\n",
    "\n",
    "    ax.legend()\n",
    "    ax.set_xlabel('Steps')\n",
    "    ax.set_ylabel(f'Mean FFT ({s}) diff.')\n",
    "    fig.tight_layout()\n",
    "    for ext in ['pdf', 'png']:\n",
    "        fig.savefig(os.path.join(graph_folder, f'fft-{s}_mean_avg.{ext}'))"
   ]
  },
  {
   "cell_type": "code",
   "execution_count": null,
   "id": "d5458449",
   "metadata": {
    "scrolled": false
   },
   "outputs": [],
   "source": [
    "for s in ['low', 'mid', 'high']:\n",
    "        \n",
    "    fig, ax = plt.subplots(figsize=(5, 4))\n",
    "    for c in cases.keys():\n",
    "\n",
    "        ys = [y[f'fft_mean_{s}'] for y in data[c]]\n",
    "        mean = np.mean(ys, axis=0)\n",
    "        err = np.std(ys, axis=0)\n",
    "\n",
    "        label, marker = algs[c]\n",
    "\n",
    "        ax.set_yscale(\"log\")\n",
    "        ax.errorbar(data[c][0]['steps'], mean, [np.zeros_like(err), err], \n",
    "                    fmt=marker, capsize=2, label=label, alpha=0.7)\n",
    "\n",
    "    ax.legend()\n",
    "    ax.set_xlabel('Steps')\n",
    "    ax.set_ylabel(f'Mean FFT ({s}) diff.')\n",
    "    fig.tight_layout()\n",
    "    for ext in ['pdf', 'png']:\n",
    "        fig.savefig(os.path.join(graph_folder, f'fft-{s}_mean_bar.{ext}'))"
   ]
  },
  {
   "cell_type": "code",
   "execution_count": null,
   "id": "1be89d07",
   "metadata": {},
   "outputs": [],
   "source": []
  },
  {
   "cell_type": "code",
   "execution_count": null,
   "id": "77fdfd5c",
   "metadata": {},
   "outputs": [],
   "source": [
    "if '_change/' in case_folder:\n",
    "    start_y = [data['random'][0]['pred'][0][:,0], data['random'][0]['y_test'][:,0]]\n",
    "    start_title = ['Initial model', 'True solution']\n",
    "else:\n",
    "    start_y = [data['random'][0]['y_test'][:,0]]\n",
    "    start_title = ['True solution']\n",
    "    \n",
    "\n",
    "fig, axs = plot_contours(\n",
    "    xs=data['random'][0]['x_test'], \n",
    "    ys_list=start_y + [data[c][np.argmin([x['err_mean'][-1] for x in data[c]])]['pred'][-1][:,0] for c in cases.keys()], \n",
    "    titles=start_title + [algs[c][0] for c in cases.keys()], \n",
    ")\n",
    "\n",
    "fig.savefig(os.path.join(graph_folder, f'pred_s{data[c][0][\"steps\"][-1]}.png'))"
   ]
  },
  {
   "cell_type": "code",
   "execution_count": null,
   "id": "c87ed73a",
   "metadata": {},
   "outputs": [],
   "source": [
    "fig, axs = plot_contours(\n",
    "    xs=data['random'][0]['x_test'], \n",
    "    ys_list=[data[c][np.argmin([x['err_mean'][-1] for x in data[c]])]['err'][-1][:,0] for c in cases.keys()],\n",
    "    titles=[algs[c][0] for c in cases.keys()], \n",
    ")\n",
    "\n",
    "fig.savefig(os.path.join(graph_folder, f'err_s{data[c][0][\"steps\"][-1]}.png'))"
   ]
  },
  {
   "cell_type": "code",
   "execution_count": null,
   "id": "1941885e",
   "metadata": {},
   "outputs": [],
   "source": [
    "fig, axs = plot_contours(\n",
    "    xs=data['random'][0]['x_test'], \n",
    "    ys_list=[data[c][np.argmin([x['err_mean'][-1] for x in data[c]])]['res'][-1][:,0] for c in cases.keys()],\n",
    "    titles=[algs[c][0] for c in cases.keys()], \n",
    ")\n",
    "\n",
    "fig.savefig(os.path.join(graph_folder, f'res_s{data[c][0][\"steps\"][-1]}.png'))"
   ]
  },
  {
   "cell_type": "code",
   "execution_count": null,
   "id": "4a963aa3",
   "metadata": {},
   "outputs": [],
   "source": []
  },
  {
   "cell_type": "code",
   "execution_count": null,
   "id": "31ccb776",
   "metadata": {},
   "outputs": [],
   "source": [
    "for c in cases.keys():\n",
    "\n",
    "    print(algs[c][0])\n",
    "    \n",
    "    min_idx = np.argmin([x['err_mean'][-1] for x in data[c]])\n",
    "    steps = [data[c][min_idx]['steps'].index(s) for s in steps_plot]\n",
    "    \n",
    "    fig, axs = plot_contours(\n",
    "        xs=data['random'][0]['x_test'], \n",
    "        ys_list=(\n",
    "            [data[c][min_idx]['y_test'][:,0]] +\n",
    "            [data[c][min_idx]['pred'][s][:,0] for s in steps]\n",
    "        ), \n",
    "        titles=(\n",
    "            ['True solution'] +\n",
    "            [f'Step {s}' for s in steps_plot]\n",
    "        ), \n",
    "    )\n",
    "\n",
    "    for ax, s in zip(axs[1:], steps):\n",
    "        plot_training_data(ax, data[c][0]['chosen_pts'][s])\n",
    "        \n",
    "    fig.savefig(os.path.join(graph_folder, f'data_pred_{algs[c][0]}.png'))\n",
    "    plt.show()"
   ]
  },
  {
   "cell_type": "code",
   "execution_count": null,
   "id": "183e1ec4",
   "metadata": {},
   "outputs": [],
   "source": [
    "for c in cases.keys():\n",
    "    \n",
    "    print(algs[c][0])\n",
    "    \n",
    "    min_idx = np.argmin([x['err_mean'][-1] for x in data[c]])\n",
    "    steps = [data[c][min_idx]['steps'].index(s) for s in steps_plot]\n",
    "\n",
    "    fig, axs = plot_contours(\n",
    "        xs=data[c][min_idx]['x_test'], \n",
    "        ys_list=[data[c][min_idx]['res'][s][:,0] for s in steps], \n",
    "        titles=[f'Step {data[c][0][\"steps\"][s]}' for s in steps], \n",
    "    )\n",
    "\n",
    "    for ax, s in zip(axs, steps):\n",
    "        plot_training_data(ax, data[c][0]['chosen_pts'][s])\n",
    "\n",
    "    fig.savefig(os.path.join(graph_folder, f'data_res_{algs[c][0]}.png'))\n",
    "    plt.show()"
   ]
  },
  {
   "cell_type": "code",
   "execution_count": null,
   "id": "81a47b94",
   "metadata": {},
   "outputs": [],
   "source": []
  },
  {
   "cell_type": "code",
   "execution_count": null,
   "id": "788a91bf",
   "metadata": {},
   "outputs": [],
   "source": []
  },
  {
   "cell_type": "code",
   "execution_count": null,
   "id": "e3c6f0aa",
   "metadata": {},
   "outputs": [],
   "source": []
  },
  {
   "cell_type": "code",
   "execution_count": null,
   "id": "b19b7ddc",
   "metadata": {},
   "outputs": [],
   "source": []
  },
  {
   "cell_type": "code",
   "execution_count": null,
   "id": "3a1a75df",
   "metadata": {},
   "outputs": [],
   "source": []
  },
  {
   "cell_type": "code",
   "execution_count": null,
   "id": "ffe870ff",
   "metadata": {},
   "outputs": [],
   "source": []
  },
  {
   "cell_type": "code",
   "execution_count": null,
   "id": "8db1c6aa",
   "metadata": {},
   "outputs": [],
   "source": []
  },
  {
   "cell_type": "code",
   "execution_count": null,
   "id": "3beebe45",
   "metadata": {},
   "outputs": [],
   "source": []
  },
  {
   "cell_type": "code",
   "execution_count": null,
   "id": "fec08f77",
   "metadata": {},
   "outputs": [],
   "source": [
    "import torch.nn.functional as F\n",
    "import torch\n",
    "\n",
    "# FftLoss Function  \n",
    "class FftMseLoss(object):\n",
    "    \"\"\"\n",
    "    loss function in Fourier space\n",
    "\n",
    "    June 2022, F.Alesiani\n",
    "    \"\"\"\n",
    "    def __init__(self, reduction='mean'):\n",
    "        super(FftMseLoss, self).__init__()\n",
    "        #Dimension and Lp-norm type are postive\n",
    "        self.reduction = reduction\n",
    "    def __call__(self, x, y, flow=None, fhigh=None, eps=1e-20):\n",
    "        x = torch.tensor(x)\n",
    "        y = torch.tensor(y)\n",
    "        num_examples = x.size()[0]\n",
    "        others_dims = x.shape[1:]\n",
    "        for d in others_dims:\n",
    "            assert (d>1), \"we expect the dimension to be the same and greater the 1\"\n",
    "        print(others_dims)\n",
    "        dims = list(range(1,len(x.shape)-1))\n",
    "        xf = torch.fft.fftn(x,dim=dims)\n",
    "        yf = torch.fft.fftn(y,dim=dims)\n",
    "        if flow is None: flow = 0\n",
    "        if fhigh is None: fhigh = np.max(xf.shape[1:])\n",
    "            \n",
    "#         return xf, yf\n",
    "#         print(xf.shape, yf.shape)\n",
    "\n",
    "        if len(others_dims) ==1:\n",
    "            xf = xf[:,flow:fhigh]\n",
    "            yf = yf[:,flow:fhigh]        \n",
    "        if len(others_dims) ==2:\n",
    "            xf = xf[:,flow:fhigh,flow:fhigh]\n",
    "            yf = yf[:,flow:fhigh,flow:fhigh]\n",
    "        if len(others_dims) ==3:\n",
    "            xf = xf[:,flow:fhigh,flow:fhigh,flow:fhigh]\n",
    "            yf = yf[:,flow:fhigh,flow:fhigh,flow:fhigh]\n",
    "        if len(others_dims) ==4:\n",
    "            xf = xf[:,flow:fhigh,flow:fhigh,flow:fhigh,flow:fhigh]\n",
    "            yf = yf[:,flow:fhigh,flow:fhigh,flow:fhigh,flow:fhigh]\n",
    "        _diff = xf - yf\n",
    "        _diff = _diff.reshape(num_examples,-1).abs()**2\n",
    "        print(_diff)\n",
    "        if self.reduction in ['mean']:\n",
    "            return torch.mean(_diff).abs()\n",
    "        if self.reduction in ['sum']:\n",
    "            return torch.sum(_diff).abs()\n",
    "        return _diff.abs()"
   ]
  },
  {
   "cell_type": "code",
   "execution_count": null,
   "id": "6cf7e757",
   "metadata": {},
   "outputs": [],
   "source": [
    "fftmseloss_fn = FftMseLoss(reduction=\"mean\")"
   ]
  },
  {
   "cell_type": "code",
   "execution_count": null,
   "id": "6ea8925e",
   "metadata": {},
   "outputs": [],
   "source": [
    "u0 = np.array(data['random'][-1]['y_test'].reshape(1, 1024, -1))\n",
    "x = np.array(data['greedy_nystrom_wo_N_scale-none_mem_autoal'][0]['pred'][-1].reshape(1, 1024, -1))\n",
    "\n",
    "fmid = u0.shape[2]//4\n",
    "fftmseloss_low_u0 = fftmseloss_fn(u0, x, 0, fmid).item()\n",
    "fftmseloss_mid_u0 = fftmseloss_fn(u0, x, fmid, 2*fmid).item()\n",
    "fftmseloss_hi_u0 = fftmseloss_fn(u0, x, 2*fmid).item()"
   ]
  },
  {
   "cell_type": "code",
   "execution_count": null,
   "id": "fc3e4f1d",
   "metadata": {},
   "outputs": [],
   "source": []
  },
  {
   "cell_type": "code",
   "execution_count": null,
   "id": "72373628",
   "metadata": {},
   "outputs": [],
   "source": [
    "x = np.array(data['greedy_nystrom_wo_N_scale-none_mem_autoal'][0]['pred'][-1].reshape(1, 1024, -1))\n",
    "# x = torch.tensor(x)"
   ]
  },
  {
   "cell_type": "code",
   "execution_count": null,
   "id": "0cb7f5b6",
   "metadata": {},
   "outputs": [],
   "source": [
    "y = torch.fft.fftn(x, dim=[1, 2])\n",
    "z = torch.fft.fftn(y, dim=[1, 2])"
   ]
  },
  {
   "cell_type": "code",
   "execution_count": null,
   "id": "299e2028",
   "metadata": {},
   "outputs": [],
   "source": [
    "plt.imshow(x[0].T)\n",
    "plt.colorbar()"
   ]
  },
  {
   "cell_type": "code",
   "execution_count": null,
   "id": "dd92e8ad",
   "metadata": {},
   "outputs": [],
   "source": [
    "plt.imshow(z[0].real.T)\n",
    "plt.colorbar()"
   ]
  },
  {
   "cell_type": "code",
   "execution_count": null,
   "id": "7baa8c2e",
   "metadata": {},
   "outputs": [],
   "source": [
    "plt.imshow(y[0].real.T)"
   ]
  },
  {
   "cell_type": "code",
   "execution_count": null,
   "id": "9bcf7ee9",
   "metadata": {},
   "outputs": [],
   "source": [
    "z[0].real / x[0]"
   ]
  },
  {
   "cell_type": "code",
   "execution_count": null,
   "id": "60732fe0",
   "metadata": {},
   "outputs": [],
   "source": [
    "x = np.array(data['greedy_nystrom_wo_N_scale-none_mem_autoal'][0]['pred'][-1].reshape(1, 1024, -1))\n",
    "y = np.fft.fftn(x, axes=[1, 2])\n",
    "\n",
    "y[:, 100:] = 0.\n",
    "y[:, :, 186:] = 0.\n",
    "\n",
    "# y[:-50] = 0.\n",
    "# y[:, :-20] = 0.\n",
    "\n",
    "z = np.fft.ifftn(y, axes=[1, 2])"
   ]
  },
  {
   "cell_type": "code",
   "execution_count": null,
   "id": "3cd94d5e",
   "metadata": {},
   "outputs": [],
   "source": [
    "z.shape"
   ]
  },
  {
   "cell_type": "code",
   "execution_count": null,
   "id": "582c9412",
   "metadata": {},
   "outputs": [],
   "source": [
    "plt.imshow(x[0].T)\n",
    "# plt.colorbar()"
   ]
  },
  {
   "cell_type": "code",
   "execution_count": null,
   "id": "188ea045",
   "metadata": {},
   "outputs": [],
   "source": [
    "plt.imshow(z[0].real.T)\n",
    "# plt.colorbar()"
   ]
  },
  {
   "cell_type": "code",
   "execution_count": null,
   "id": "78b7a52d",
   "metadata": {},
   "outputs": [],
   "source": [
    "plt.imshow(y[0, :30].imag.T)"
   ]
  },
  {
   "cell_type": "code",
   "execution_count": null,
   "id": "33e2cc9b",
   "metadata": {},
   "outputs": [],
   "source": []
  }
 ],
 "metadata": {
  "kernelspec": {
   "display_name": "Python 3 (ipykernel)",
   "language": "python",
   "name": "python3"
  },
  "language_info": {
   "codemirror_mode": {
    "name": "ipython",
    "version": 3
   },
   "file_extension": ".py",
   "mimetype": "text/x-python",
   "name": "python",
   "nbconvert_exporter": "python",
   "pygments_lexer": "ipython3",
   "version": "3.9.0"
  }
 },
 "nbformat": 4,
 "nbformat_minor": 5
}
