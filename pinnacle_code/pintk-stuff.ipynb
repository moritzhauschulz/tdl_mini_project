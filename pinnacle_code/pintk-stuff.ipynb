{
 "cells": [
  {
   "cell_type": "code",
   "execution_count": null,
   "id": "e2c0ad37",
   "metadata": {},
   "outputs": [],
   "source": [
    "%load_ext autoreload\n",
    "%autoreload 2\n",
    "%matplotlib inline"
   ]
  },
  {
   "cell_type": "code",
   "execution_count": null,
   "id": "281ef3ad",
   "metadata": {
    "scrolled": false
   },
   "outputs": [],
   "source": [
    "from functools import partial\n",
    "import os\n",
    "import pickle as pkl\n",
    "from collections.abc import MutableMapping\n",
    "from datetime import datetime\n",
    "\n",
    "import matplotlib.pyplot as plt\n",
    "import numpy as np\n",
    "import tqdm\n",
    "\n",
    "os.environ[\"CUDA_VISIBLE_DEVICES\"] = \"0\"\n",
    "os.environ[\"DDE_BACKEND\"] = \"jax\"\n",
    "\n",
    "# os.environ[\"XLA_PYTHON_CLIENT_PREALLOCATE\"]=\"false\"\n",
    "# os.environ[\"XLA_PYTHON_CLIENT_MEM_FRACTION\"]=\".XX\"\n",
    "# os.environ[\"XLA_PYTHON_CLIENT_ALLOCATOR\"]=\"platform\"\n",
    "\n",
    "from jax import config\n",
    "config.update(\"jax_enable_x64\", True)\n",
    "# config.update(\"jax_debug_nans\", True)\n",
    "\n",
    "import jax\n",
    "import jax.numpy as jnp\n",
    "import flax\n",
    "from flax import linen as nn\n",
    "import optax\n",
    "\n",
    "try:\n",
    "    print(f'Jax: CPUs={jax.local_device_count(\"cpu\")} - GPUs={jax.local_device_count(\"gpu\")}')\n",
    "except:\n",
    "    pass\n",
    "    \n",
    "import deepxde_al_patch.deepxde as dde\n",
    "\n",
    "from deepxde_al_patch.model_loader import construct_model\n",
    "from deepxde_al_patch.modified_train_loop import ModifiedTrainLoop\n",
    "from deepxde_al_patch.plotters import plot_residue_loss, plot_error, plot_prediction\n",
    "from deepxde_al_patch.train_set_loader import load_data\n",
    "\n",
    "from deepxde_al_patch.ntk import NTKHelper\n",
    "from deepxde_al_patch.utils import get_pde_residue, print_dict_structure"
   ]
  },
  {
   "cell_type": "code",
   "execution_count": null,
   "id": "9f6d39c3",
   "metadata": {},
   "outputs": [],
   "source": [
    "plt.rcParams['figure.figsize'] = (8,6)\n",
    "plt.rcParams['figure.dpi'] = 200\n",
    "\n",
    "plt.rcParams.update({\n",
    "    'font.size': 12,\n",
    "    'text.usetex': False,\n",
    "})"
   ]
  },
  {
   "cell_type": "code",
   "execution_count": null,
   "id": "57e52987",
   "metadata": {},
   "outputs": [],
   "source": []
  },
  {
   "cell_type": "markdown",
   "id": "6b82e404",
   "metadata": {},
   "source": [
    "## Setup"
   ]
  },
  {
   "cell_type": "code",
   "execution_count": null,
   "id": "552cfecb",
   "metadata": {
    "scrolled": false
   },
   "outputs": [],
   "source": [
    "inverse_problem = False\n",
    "\n",
    "model, model_aux = construct_model(\n",
    "    \n",
    "    #     # load data - without pdebench\n",
    "    pde_name='conv-1d', \n",
    "    data_seed=40,\n",
    "    pde_const=(1.,), \n",
    "    use_pdebench=True,\n",
    "    num_domain=2000, \n",
    "    num_boundary=500, \n",
    "    num_initial=500,\n",
    "    include_ic=(not inverse_problem),\n",
    "    data_root='~/pdebench',\n",
    "    test_max_pts=50000,\n",
    "    \n",
    "#     #     # load data - without pdebench\n",
    "#     pde_name='burgers-1d', \n",
    "#     data_seed=20,\n",
    "#     pde_const=(0.02,), \n",
    "#     use_pdebench=True,\n",
    "# #     inverse_problem=inverse_problem, \n",
    "# #     inverse_problem_guess=(0.8,),\n",
    "#     num_domain=2000, \n",
    "#     num_boundary=500, \n",
    "#     num_initial=500,\n",
    "#     include_ic=True,\n",
    "#     data_root='~/pdebench',\n",
    "#     test_max_pts=50000,\n",
    "    \n",
    "    # model params\n",
    "    hidden_layers=4, \n",
    "    hidden_dim=64, \n",
    "    activation='tanh', \n",
    "    initializer='Glorot uniform', \n",
    "#     arch='pfnn', \n",
    "\n",
    ")"
   ]
  },
  {
   "cell_type": "markdown",
   "id": "bd033c6d",
   "metadata": {},
   "source": [
    "### Experiments area\n"
   ]
  },
  {
   "cell_type": "code",
   "execution_count": null,
   "id": "ecb37bb5",
   "metadata": {},
   "outputs": [],
   "source": [
    "method = 'random'\n",
    "\n",
    "al_args = dict(\n",
    "    method='pseudo',\n",
    "    res_proportion=0.8,\n",
    ")\n",
    "    \n",
    "optim_args = dict(\n",
    "    train_steps=100000,\n",
    "    al_every=5000,\n",
    "    select_anchors_every=100000,\n",
    "    snapshot_every=1000,\n",
    "    optim_method='adam', \n",
    "    optim_lr=1e-3, \n",
    "    optim_args=dict(),\n",
    ")\n",
    "    \n",
    "\n",
    "train_loop = ModifiedTrainLoop(\n",
    "    model=model, \n",
    "    inverse_problem=inverse_problem,\n",
    "    point_selector_method=method,\n",
    "    point_selector_args=al_args,\n",
    "    mem_pts_total_budget=10000,\n",
    "    anchor_budget=0,\n",
    "    autoscale_loss_w_bcs=False,\n",
    "    ntk_ratio_threshold=None,\n",
    "    tensorboard_plots=False,\n",
    "    **optim_args,\n",
    ")"
   ]
  },
  {
   "cell_type": "code",
   "execution_count": null,
   "id": "e9c03e60",
   "metadata": {},
   "outputs": [],
   "source": [
    "plot_prediction(train_loop, res=200, out_idx=0);"
   ]
  },
  {
   "cell_type": "code",
   "execution_count": null,
   "id": "1606f540",
   "metadata": {
    "scrolled": false
   },
   "outputs": [],
   "source": [
    "train_loop.train()"
   ]
  },
  {
   "cell_type": "code",
   "execution_count": null,
   "id": "d6ff67a1",
   "metadata": {},
   "outputs": [],
   "source": [
    "fig, _ = train_loop.plot_training_data(20000)\n",
    "fig"
   ]
  },
  {
   "cell_type": "markdown",
   "id": "3aedf9eb",
   "metadata": {},
   "source": [
    "### Visualisation"
   ]
  },
  {
   "cell_type": "code",
   "execution_count": null,
   "id": "3c9582ed",
   "metadata": {},
   "outputs": [],
   "source": [
    "# Visualisation\n",
    "\n",
    "# train_loop.plot_training_data(step_idx=0)\n",
    "train_loop.plot_losses()"
   ]
  },
  {
   "cell_type": "code",
   "execution_count": null,
   "id": "65a77e37",
   "metadata": {},
   "outputs": [],
   "source": [
    "steps = [100000]"
   ]
  },
  {
   "cell_type": "code",
   "execution_count": null,
   "id": "67209e85",
   "metadata": {
    "scrolled": false
   },
   "outputs": [],
   "source": [
    "plot_prediction(train_loop=train_loop, step_idxs=steps, out_idx=0, plot_training_data=False, t_plot=0.);"
   ]
  },
  {
   "cell_type": "code",
   "execution_count": null,
   "id": "142ff6b6",
   "metadata": {},
   "outputs": [],
   "source": []
  },
  {
   "cell_type": "code",
   "execution_count": null,
   "id": "e06fae01",
   "metadata": {},
   "outputs": [],
   "source": []
  },
  {
   "cell_type": "code",
   "execution_count": null,
   "id": "a4387257",
   "metadata": {},
   "outputs": [],
   "source": []
  },
  {
   "cell_type": "code",
   "execution_count": null,
   "id": "65975f23",
   "metadata": {},
   "outputs": [],
   "source": [
    "ntk_fn = NTKHelper(model)"
   ]
  },
  {
   "cell_type": "code",
   "execution_count": null,
   "id": "7939b505",
   "metadata": {},
   "outputs": [],
   "source": []
  },
  {
   "cell_type": "code",
   "execution_count": null,
   "id": "593eb6b2",
   "metadata": {},
   "outputs": [],
   "source": [
    "geom = model.data.geom.geometry\n",
    "timedomain = geom = model.data.geom.timedomain"
   ]
  },
  {
   "cell_type": "code",
   "execution_count": null,
   "id": "ad94a55a",
   "metadata": {
    "scrolled": false
   },
   "outputs": [],
   "source": [
    "res = 30\n",
    "grid = jnp.meshgrid(jnp.linspace(geom.l, geom.r, res), jnp.linspace(timedomain.t0, timedomain.t1, res))\n",
    "pool_pts = jnp.array(grid).reshape(2, -1).T\n",
    "\n",
    "ntk = ntk_fn.get_ntk(xs1=pool_pts, code1=0)"
   ]
  },
  {
   "cell_type": "code",
   "execution_count": null,
   "id": "f5f630b0",
   "metadata": {
    "scrolled": false
   },
   "outputs": [],
   "source": [
    "i = 20\n",
    "T = ntk[i].reshape(res, res)\n",
    "\n",
    "plt.pcolormesh(*grid, T, cmap='RdBu_r')\n",
    "plt.plot([pool_pts[i, 0]], [pool_pts[i, 1]], 'x', color='black', ms=10)\n",
    "plt.colorbar()"
   ]
  },
  {
   "cell_type": "code",
   "execution_count": null,
   "id": "67e24008",
   "metadata": {},
   "outputs": [],
   "source": []
  }
 ],
 "metadata": {
  "kernelspec": {
   "display_name": "Python 3 (ipykernel)",
   "language": "python",
   "name": "python3"
  },
  "language_info": {
   "codemirror_mode": {
    "name": "ipython",
    "version": 3
   },
   "file_extension": ".py",
   "mimetype": "text/x-python",
   "name": "python",
   "nbconvert_exporter": "python",
   "pygments_lexer": "ipython3",
   "version": "3.9.0"
  }
 },
 "nbformat": 4,
 "nbformat_minor": 5
}
