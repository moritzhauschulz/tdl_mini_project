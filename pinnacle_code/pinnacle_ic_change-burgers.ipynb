{
 "cells": [
  {
   "cell_type": "code",
   "execution_count": 2,
   "id": "e2c0ad37",
   "metadata": {},
   "outputs": [
    {
     "name": "stdout",
     "output_type": "stream",
     "text": [
      "The autoreload extension is already loaded. To reload it, use:\n",
      "  %reload_ext autoreload\n"
     ]
    }
   ],
   "source": [
    "%load_ext autoreload\n",
    "%autoreload 2\n",
    "%matplotlib inline"
   ]
  },
  {
   "cell_type": "code",
   "execution_count": 10,
   "id": "281ef3ad",
   "metadata": {
    "scrolled": false
   },
   "outputs": [],
   "source": [
    "from functools import partial\n",
    "import os\n",
    "import pickle as pkl\n",
    "from collections.abc import MutableMapping\n",
    "\n",
    "import matplotlib.pyplot as plt\n",
    "import numpy as np\n",
    "import tqdm\n",
    "\n",
    "os.environ[\"CUDA_VISIBLE_DEVICES\"] = \"\"\n",
    "os.environ[\"DDE_BACKEND\"] = \"jax\"\n",
    "\n",
    "# os.environ[\"XLA_PYTHON_CLIENT_PREALLOCATE\"]=\"false\"\n",
    "# os.environ[\"XLA_PYTHON_CLIENT_MEM_FRACTION\"]=\".XX\"\n",
    "# os.environ[\"XLA_PYTHON_CLIENT_ALLOCATOR\"]=\"platform\"\n",
    "\n",
    "from jax import config\n",
    "config.update(\"jax_enable_x64\", True)\n",
    "# config.update(\"jax_debug_nans\", True)\n",
    "\n",
    "import jax\n",
    "import jax.numpy as jnp\n",
    "import flax\n",
    "from flax import linen as nn\n",
    "import optax\n",
    "\n",
    "# print(f'Jax: CPUs={jax.local_device_count(\"cpu\")} - GPUs={jax.local_device_count(\"gpu\")}')\n",
    "\n",
    "from deepxde_al_patch import deepxde as dde\n",
    "\n",
    "from deepxde_al_patch.model_loader import construct_model\n",
    "from deepxde_al_patch.modified_train_loop import ModifiedTrainLoop\n",
    "from deepxde_al_patch.plotters import plot_residue_loss, plot_error, plot_prediction\n",
    "from deepxde_al_patch.train_set_loader import load_data\n",
    "\n",
    "from deepxde_al_patch.ntk import NTKHelper\n",
    "from deepxde_al_patch.utils import get_pde_residue, print_dict_structure"
   ]
  },
  {
   "cell_type": "code",
   "execution_count": null,
   "id": "9f6d39c3",
   "metadata": {},
   "outputs": [],
   "source": [
    "plt.rcParams['figure.figsize'] = (8,6)\n",
    "plt.rcParams['figure.dpi'] = 300\n",
    "\n",
    "plt.rcParams.update({\n",
    "    'font.size': 12,\n",
    "    'text.usetex': False,\n",
    "})"
   ]
  },
  {
   "cell_type": "code",
   "execution_count": null,
   "id": "c22961ef",
   "metadata": {},
   "outputs": [],
   "source": []
  },
  {
   "cell_type": "code",
   "execution_count": null,
   "id": "a20862b2",
   "metadata": {},
   "outputs": [],
   "source": [
    "BURGERS_1D_SIMILAR_SEEDS = [\n",
    "#     (31, 47),\n",
    "#     (76, 219),\n",
    "#     (291, 857),\n",
    "#     (219, 558),\n",
    "#     (28, 346),\n",
    "#     (568, 883),\n",
    "#     (172, 376),\n",
    "#     (172, 637),\n",
    "#     (464, 566),\n",
    "#     (219, 745),\n",
    "#     (28, 82),\n",
    "#     (69, 376),\n",
    "#     (76, 745),\n",
    "#     (92, 986),\n",
    "#     (223, 981),\n",
    "#     (536, 879),\n",
    "#     (558, 745),\n",
    "#     (376, 511),\n",
    "#     (2, 276),\n",
    "#     (88, 642),\n",
    "#     (472, 978),\n",
    "#     (376, 983),\n",
    "#     (364, 925),\n",
    "#     (172, 377),\n",
    "    (76, 558),\n",
    "    (242, 637),\n",
    "#     (69, 511),\n",
    "#     (628, 859),\n",
    "#     (511, 983),\n",
    "#     (53, 867)\n",
    "]"
   ]
  },
  {
   "cell_type": "code",
   "execution_count": null,
   "id": "edab454b",
   "metadata": {},
   "outputs": [],
   "source": []
  },
  {
   "cell_type": "code",
   "execution_count": null,
   "id": "57e52987",
   "metadata": {},
   "outputs": [],
   "source": [
    "seed_idx_pair = 1"
   ]
  },
  {
   "cell_type": "code",
   "execution_count": null,
   "id": "c9c58355",
   "metadata": {},
   "outputs": [],
   "source": [
    "model_common_params = dict(\n",
    "    \n",
    "    pde_name='burgers-1d', \n",
    "    pde_const=(0.02,), \n",
    "    use_pdebench=True,\n",
    "    data_root='~/pdebench',\n",
    "    \n",
    "    # model params\n",
    "    hidden_layers=4, \n",
    "    hidden_dim=64, \n",
    "    activation='tanh', \n",
    "    initializer='Glorot uniform', \n",
    "    arch=None, \n",
    "    \n",
    ")\n",
    "\n",
    "data_code = f'{model_common_params[\"pde_name\"]}-{model_common_params[\"pde_const\"][0]}'\n",
    "model_code = f'{model_common_params[\"arch\"]}-{model_common_params[\"hidden_layers\"]}-{model_common_params[\"hidden_dim\"]}'\n",
    "param_prefix = f'{data_code}_pb-{BURGERS_1D_SIMILAR_SEEDS[seed_idx_pair][0]}_{model_code}_v0'"
   ]
  },
  {
   "cell_type": "code",
   "execution_count": null,
   "id": "d3aac1ee",
   "metadata": {},
   "outputs": [],
   "source": []
  },
  {
   "cell_type": "markdown",
   "id": "6b82e404",
   "metadata": {},
   "source": [
    "## Setup"
   ]
  },
  {
   "cell_type": "code",
   "execution_count": null,
   "id": "552cfecb",
   "metadata": {},
   "outputs": [],
   "source": [
    "model, model_aux = construct_model(\n",
    "    data_seed=BURGERS_1D_SIMILAR_SEEDS[seed_idx_pair][0],\n",
    "    num_domain=1000, \n",
    "    num_boundary=200, \n",
    "    num_initial=200,\n",
    "    **model_common_params\n",
    ")"
   ]
  },
  {
   "cell_type": "code",
   "execution_count": null,
   "id": "18b2f8a5",
   "metadata": {},
   "outputs": [],
   "source": [
    "train_loop = ModifiedTrainLoop(\n",
    "    model=model, \n",
    "    point_selector_method='random',\n",
    "    point_selector_args=dict(res_proportion=0.7),\n",
    "    \n",
    "    train_steps=50000,\n",
    "    al_every=50000,\n",
    "    select_anchors_every=50000,\n",
    "    mem_pts_total_budget=10000,\n",
    "    anchor_budget=1000,\n",
    "    snapshot_every=5000,\n",
    "    optim_method='adam', \n",
    "    optim_lr=1e-4, \n",
    "    optim_args=dict(),\n",
    ")"
   ]
  },
  {
   "cell_type": "code",
   "execution_count": null,
   "id": "5630cff8",
   "metadata": {},
   "outputs": [],
   "source": [
    "plot_prediction(train_loop, res=200, out_idx=0, t_plot=0.);"
   ]
  },
  {
   "cell_type": "code",
   "execution_count": null,
   "id": "d99fd95a",
   "metadata": {
    "scrolled": false
   },
   "outputs": [],
   "source": [
    "train_loop.train()"
   ]
  },
  {
   "cell_type": "code",
   "execution_count": null,
   "id": "96a4c633",
   "metadata": {},
   "outputs": [],
   "source": [
    "steps = [50000, 100000]\n",
    "plot_prediction(train_loop=train_loop, step_idxs=steps, out_idx=0, plot_training_data=False);"
   ]
  },
  {
   "cell_type": "code",
   "execution_count": null,
   "id": "75444ef6",
   "metadata": {},
   "outputs": [],
   "source": [
    "os.makedirs('./saved_models', exist_ok=True)\n",
    "\n",
    "# with open(f'./saved_models/{param_prefix}_partial.pkl', 'wb+') as f:\n",
    "#     pkl.dump(train_loop.snapshot_data[steps[0]]['params'], f)\n",
    "    \n",
    "with open(f'./saved_models/{param_prefix}.pkl', 'wb+') as f:\n",
    "    pkl.dump(train_loop.snapshot_data[steps[-1]]['params'], f)"
   ]
  },
  {
   "cell_type": "code",
   "execution_count": null,
   "id": "012814d3",
   "metadata": {},
   "outputs": [],
   "source": []
  },
  {
   "cell_type": "markdown",
   "id": "bd033c6d",
   "metadata": {},
   "source": [
    "### Experiments area\n"
   ]
  },
  {
   "cell_type": "code",
   "execution_count": null,
   "id": "e06d726d",
   "metadata": {},
   "outputs": [],
   "source": [
    "model_updated, _ = construct_model(\n",
    "    data_seed=BURGERS_1D_SIMILAR_SEEDS[seed_idx_pair][1],\n",
    "    num_domain=1000, \n",
    "    num_boundary=100, \n",
    "    num_initial=100,\n",
    "    **model_common_params\n",
    ")"
   ]
  },
  {
   "cell_type": "code",
   "execution_count": null,
   "id": "15c95999",
   "metadata": {},
   "outputs": [],
   "source": [
    "with open(f'./saved_models/{param_prefix}.pkl', 'rb') as f:\n",
    "    model_updated.params = pkl.load(f)"
   ]
  },
  {
   "cell_type": "code",
   "execution_count": null,
   "id": "ecb37bb5",
   "metadata": {},
   "outputs": [],
   "source": [
    "method = 'eig_greedy'\n",
    "optim = 'adam'\n",
    "\n",
    "\n",
    "if method == 'eig_greedy':\n",
    "    al_args = dict(\n",
    "        num_points_round=100,\n",
    "        weight_method= \"nystrom_wo_N\", # possible options are 'none', 'labels', 'eigvals', 'labels_train\n",
    "        num_candidates_res=500, #300\n",
    "        num_candidates_bcs=200,\n",
    "        num_candidates_init=200,\n",
    "        memory = True, # True to remember old points and add on new ones\n",
    "        use_init_train_pts = False,\n",
    "        sampling = 'pseudo', # uniform, pseudo\n",
    "        min_num_points_bcs=1,\n",
    "        min_num_points_res=1,\n",
    "        points_pool_size=5,\n",
    "    )\n",
    "    \n",
    "elif method == 'eig_kmeans':\n",
    "    al_args = dict(\n",
    "        num_points_round=100,\n",
    "        weight_method= \"nystrom_wo_N\", # possible options are 'none', 'labels', 'eigvals', 'labels_train\n",
    "        num_candidates_res=500, #300\n",
    "        num_candidates_bcs=200,\n",
    "        num_candidates_init=200,\n",
    "        memory = True, # True to remember old points and add on new ones\n",
    "        use_init_train_pts = False,\n",
    "        sampling = 'pseudo', # uniform, pseudo\n",
    "        min_num_points_bcs=1,\n",
    "        min_num_points_res=1,\n",
    "        points_pool_size=5,\n",
    "    )\n",
    "    \n",
    "elif method == 'gd':\n",
    "    al_args = dict(\n",
    "        points_pool_size=500,\n",
    "        num_points_round=200,\n",
    "        eig_min=0.001, #1e-2\n",
    "        lr=1e-2,\n",
    "        train_steps=1000, #1000\n",
    "        indicator='span',\n",
    "        compare_mode=True,\n",
    "        crit='fr', \n",
    "        active_eig=50,\n",
    "        eps=1e-4,\n",
    "        dist_reg=0.,\n",
    "    )\n",
    "\n",
    "else:\n",
    "    al_args = dict()\n",
    "    \n",
    "    \n",
    "if optim == 'lbfgs':\n",
    "    optim_args = dict(\n",
    "        train_steps=500,\n",
    "        al_every=50,\n",
    "        select_anchors_every=50,\n",
    "        snapshot_every=10,\n",
    "        optim_method='lbfgs', \n",
    "        optim_lr=1e-3, \n",
    "        optim_args=dict(maxiter=100),\n",
    "    )\n",
    "\n",
    "elif optim == 'adam':\n",
    "    optim_args = dict(\n",
    "        train_steps=50000,\n",
    "        al_every=2000,\n",
    "        select_anchors_every=2000,\n",
    "        snapshot_every=1000,\n",
    "        optim_method='adam', \n",
    "        optim_lr=1e-4, \n",
    "        optim_args=dict(),\n",
    "    )\n",
    "    \n",
    "\n",
    "train_loop = ModifiedTrainLoop(\n",
    "    model=model_updated, \n",
    "    point_selector_method=method,\n",
    "    point_selector_args=al_args,\n",
    "    mem_pts_total_budget=200,\n",
    "    anchor_budget=0,\n",
    "    autoscale_loss_w_bcs=False,\n",
    "    ntk_ratio_threshold=1.,\n",
    "    **optim_args,\n",
    ")"
   ]
  },
  {
   "cell_type": "code",
   "execution_count": null,
   "id": "e9c03e60",
   "metadata": {},
   "outputs": [],
   "source": [
    "plot_prediction(train_loop, res=200, out_idx=0, t_plot=0.);"
   ]
  },
  {
   "cell_type": "code",
   "execution_count": null,
   "id": "1606f540",
   "metadata": {
    "scrolled": false
   },
   "outputs": [],
   "source": [
    "train_loop.train()"
   ]
  },
  {
   "cell_type": "code",
   "execution_count": null,
   "id": "d6ff67a1",
   "metadata": {},
   "outputs": [],
   "source": [
    "fig, _ = train_loop.plot_training_data()\n",
    "fig"
   ]
  },
  {
   "cell_type": "markdown",
   "id": "3aedf9eb",
   "metadata": {},
   "source": [
    "### Visualisation"
   ]
  },
  {
   "cell_type": "code",
   "execution_count": null,
   "id": "3c9582ed",
   "metadata": {},
   "outputs": [],
   "source": [
    "# Visualisation\n",
    "\n",
    "# train_loop.plot_training_data(step_idx=0)\n",
    "train_loop.plot_losses()"
   ]
  },
  {
   "cell_type": "code",
   "execution_count": null,
   "id": "67209e85",
   "metadata": {
    "scrolled": false
   },
   "outputs": [],
   "source": [
    "plot_prediction(train_loop=train_loop, step_idxs=[0, 5000, 10000, 20000], out_idx=1, plot_training_data=True, t_plot=5.);"
   ]
  },
  {
   "cell_type": "code",
   "execution_count": null,
   "id": "2cee4bf5",
   "metadata": {},
   "outputs": [],
   "source": [
    "plot_error(train_loop=train_loop, step_idxs=steps, out_idx=2, plot_training_data=False);"
   ]
  },
  {
   "cell_type": "code",
   "execution_count": null,
   "id": "afe7a32e",
   "metadata": {
    "scrolled": false
   },
   "outputs": [],
   "source": [
    "plot_residue_loss(train_loop=train_loop, step_idxs=steps, plot_training_data=False);"
   ]
  },
  {
   "cell_type": "code",
   "execution_count": null,
   "id": "6cc0df71",
   "metadata": {},
   "outputs": [],
   "source": []
  }
 ],
 "metadata": {
  "kernelspec": {
   "display_name": ".venv",
   "language": "python",
   "name": "python3"
  },
  "language_info": {
   "codemirror_mode": {
    "name": "ipython",
    "version": 3
   },
   "file_extension": ".py",
   "mimetype": "text/x-python",
   "name": "python",
   "nbconvert_exporter": "python",
   "pygments_lexer": "ipython3",
   "version": "3.11.7"
  }
 },
 "nbformat": 4,
 "nbformat_minor": 5
}
