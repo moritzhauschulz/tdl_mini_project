{
 "cells": [
  {
   "cell_type": "code",
   "execution_count": null,
   "id": "e2c0ad37",
   "metadata": {},
   "outputs": [],
   "source": [
    "%load_ext autoreload\n",
    "%autoreload 2\n",
    "%matplotlib inline"
   ]
  },
  {
   "cell_type": "code",
   "execution_count": null,
   "id": "281ef3ad",
   "metadata": {
    "scrolled": false
   },
   "outputs": [],
   "source": [
    "from functools import partial\n",
    "import os\n",
    "import pickle as pkl\n",
    "from collections.abc import MutableMapping\n",
    "from datetime import datetime\n",
    "\n",
    "import matplotlib.pyplot as plt\n",
    "import numpy as np\n",
    "import tqdm\n",
    "\n",
    "os.environ[\"CUDA_VISIBLE_DEVICES\"] = \"\"\n",
    "os.environ[\"DDE_BACKEND\"] = \"jax\"\n",
    "\n",
    "# os.environ[\"XLA_PYTHON_CLIENT_PREALLOCATE\"]=\"false\"\n",
    "# os.environ[\"XLA_PYTHON_CLIENT_MEM_FRACTION\"]=\".XX\"\n",
    "# os.environ[\"XLA_PYTHON_CLIENT_ALLOCATOR\"]=\"platform\"\n",
    "\n",
    "from jax import config\n",
    "config.update(\"jax_enable_x64\", True)\n",
    "# config.update(\"jax_debug_nans\", True)\n",
    "\n",
    "import jax\n",
    "import jax.numpy as jnp\n",
    "import flax\n",
    "from flax import linen as nn\n",
    "import optax\n",
    "\n",
    "try:\n",
    "    print(f'Jax: CPUs={jax.local_device_count(\"cpu\")} - GPUs={jax.local_device_count(\"gpu\")}')\n",
    "except:\n",
    "    pass\n",
    "    \n",
    "import deepxde_al_patch.deepxde as dde\n",
    "\n",
    "from deepxde_al_patch.model_loader import construct_model\n",
    "from deepxde_al_patch.modified_train_loop import ModifiedTrainLoop\n",
    "from deepxde_al_patch.plotters import plot_residue_loss, plot_error, plot_prediction\n",
    "from deepxde_al_patch.train_set_loader import load_data\n",
    "\n",
    "from deepxde_al_patch.ntk import NTKHelper\n",
    "from deepxde_al_patch.utils import get_pde_residue, print_dict_structure"
   ]
  },
  {
   "cell_type": "code",
   "execution_count": null,
   "id": "57e52987",
   "metadata": {},
   "outputs": [],
   "source": []
  },
  {
   "cell_type": "code",
   "execution_count": null,
   "id": "1478bea1",
   "metadata": {},
   "outputs": [],
   "source": [
    "import pickle as pkl\n",
    "from sklearn.cluster._kmeans import kmeans_plusplus"
   ]
  },
  {
   "cell_type": "code",
   "execution_count": null,
   "id": "4b1698ba",
   "metadata": {},
   "outputs": [],
   "source": [
    "plt.rcParams['figure.figsize'] = (4, 4)\n",
    "plt.rcParams['figure.dpi'] = 300\n",
    "\n",
    "plt.rcParams.update({\n",
    "    'font.size': 14,\n",
    "    'text.usetex': False,\n",
    "})"
   ]
  },
  {
   "cell_type": "code",
   "execution_count": null,
   "id": "43e46364",
   "metadata": {},
   "outputs": [],
   "source": [
    "# with open('../../al_pinn_results/burgers-1d{0.02}_pb-20_ic/nn-None-4-128_adam_bcsloss-1.0_budget-300-100-0/kmeans_alignment_scale-none_mem_autoal/20230823161701/snapshot_data_s50000.pkl', 'rb') as f:\n",
    "with open('../../al_pinn_results/burgers-1d{0.02}_pb-20_ic/nn-None-4-128_adam_bcsloss-1.0_budget-300-100-0/kmeans_alignment_scale-none_mem_autoal/20230823161701/snapshot_data_s100000.pkl', 'rb') as f:\n",
    "    dd = pkl.load(f)"
   ]
  },
  {
   "cell_type": "code",
   "execution_count": null,
   "id": "3354db0d",
   "metadata": {},
   "outputs": [],
   "source": [
    "idx = 100000\n",
    "\n",
    "xs = dd[idx]['al_intermediate']['P'].T[:,::-1]\n",
    "xs_norm = np.linalg.norm(xs, axis=1)\n",
    "ranking = np.argsort(-xs_norm)\n",
    "\n",
    "xs = np.array(xs[ranking])\n",
    "xs_norm = np.array(xs_norm[ranking])"
   ]
  },
  {
   "cell_type": "code",
   "execution_count": null,
   "id": "16764696",
   "metadata": {},
   "outputs": [],
   "source": [
    "n = 30\n",
    "\n",
    "label = 'kmeans'\n",
    "idx_sel = np.sort(kmeans_plusplus(xs, n)[1])\n",
    "\n",
    "# label = 'sampling'\n",
    "# idx_sel = np.sort(np.random.choice(xs.shape[0], n, replace=False, p=xs_norm**2 / sum(xs_norm**2)))\n",
    "\n",
    "# label = 'greedy'\n",
    "# idx_sel = np.arange(n)"
   ]
  },
  {
   "cell_type": "code",
   "execution_count": null,
   "id": "a00bd2dd",
   "metadata": {
    "scrolled": false
   },
   "outputs": [],
   "source": [
    "for i1, i2 in [(1, 2), (1, 100), (1, 200), (100, 500)]:\n",
    "\n",
    "    plt.plot(xs[:,i1-1], xs[:,i2-1], '.', alpha=0.1)\n",
    "    plt.plot(xs[idx_sel,i1-1], xs[idx_sel,i2-1], '.', alpha=0.9)\n",
    "\n",
    "    # plt.xscale('symlog')\n",
    "    # plt.yscale('symlog')\n",
    "\n",
    "    plt.xlabel(f'Component {i1}')\n",
    "    plt.ylabel(f'Component {i2}')\n",
    "    plt.tight_layout()\n",
    "    plt.savefig(f'../../al_pinn_graphs_final/emb_{label}_d{i1}-{i2}.pdf')\n",
    "    plt.show()"
   ]
  },
  {
   "cell_type": "code",
   "execution_count": null,
   "id": "ee7cf0b9",
   "metadata": {},
   "outputs": [],
   "source": [
    "plt.plot(xs_norm)\n",
    "plt.plot(idx_sel, xs_norm[idx_sel], '.')\n",
    "plt.yscale('log')\n",
    "plt.xlabel(f'Rank of α(z)')\n",
    "plt.ylabel(f'Value of α(z)')\n",
    "plt.tight_layout()\n",
    "plt.savefig(f'../../al_pinn_graphs_final/emb_{label}_norm.pdf')"
   ]
  },
  {
   "cell_type": "code",
   "execution_count": null,
   "id": "80ceb706",
   "metadata": {},
   "outputs": [],
   "source": [
    "k = 300\n",
    "\n",
    "plt.figure(figsize=(6, 3))\n",
    "plt.plot(\n",
    "    [np.linalg.norm(np.sum(xs[np.random.choice(xs.shape[0], n)], axis=0)) for _ in range(k)], \n",
    "    4 * np.ones(k), \n",
    "    'o', alpha=0.5)\n",
    "plt.plot(\n",
    "    [np.linalg.norm(np.sum(xs[kmeans_plusplus(xs, n)[1]], axis=0)) for _ in range(k)], \n",
    "    3 * np.ones(k), \n",
    "    '^', label='K-Means++', alpha=0.5)\n",
    "plt.plot(\n",
    "    [np.linalg.norm(np.sum(xs[np.random.choice(xs.shape[0], n, replace=False, p=xs_norm**2 / sum(xs_norm**2))], axis=0)) for _ in range(k)], \n",
    "    2 * np.ones(k), \n",
    "    's', label='Sampling', alpha=0.5)\n",
    "plt.plot(\n",
    "    np.linalg.norm(np.sum(xs[np.arange(n)], axis=0)), \n",
    "    [1], \n",
    "    'p', label='Greedy', alpha=0.6)\n",
    "\n",
    "plt.ylim(0.5, 4.5)\n",
    "plt.yticks(\n",
    "    ticks = [4, 3, 2, 1],\n",
    "    labels=['Random', 'K-means++', 'Sampling', 'Greedy'],\n",
    ")\n",
    "plt.xlabel('α(Z)')\n",
    "plt.ylabel('Method to sample Z')\n",
    "\n",
    "plt.tight_layout()\n",
    "plt.savefig(f'../../al_pinn_graphs_final/emb_sel_method.pdf')"
   ]
  },
  {
   "cell_type": "code",
   "execution_count": null,
   "id": "17633701",
   "metadata": {},
   "outputs": [],
   "source": []
  }
 ],
 "metadata": {
  "kernelspec": {
   "display_name": "Python 3 (ipykernel)",
   "language": "python",
   "name": "python3"
  },
  "language_info": {
   "codemirror_mode": {
    "name": "ipython",
    "version": 3
   },
   "file_extension": ".py",
   "mimetype": "text/x-python",
   "name": "python",
   "nbconvert_exporter": "python",
   "pygments_lexer": "ipython3",
   "version": "3.9.0"
  }
 },
 "nbformat": 4,
 "nbformat_minor": 5
}
